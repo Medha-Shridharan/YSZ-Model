{
  "nbformat": 4,
  "nbformat_minor": 0,
  "metadata": {
    "colab": {
      "provenance": [],
      "include_colab_link": true
    },
    "kernelspec": {
      "name": "python3",
      "display_name": "Python 3"
    },
    "language_info": {
      "name": "python"
    }
  },
  "cells": [
    {
      "cell_type": "markdown",
      "metadata": {
        "id": "view-in-github",
        "colab_type": "text"
      },
      "source": [
        "<a href=\"https://colab.research.google.com/github/Medha-Shridharan/YSZ-Model/blob/main/reagents.ipynb\" target=\"_parent\"><img src=\"https://colab.research.google.com/assets/colab-badge.svg\" alt=\"Open In Colab\"/></a>"
      ]
    },
    {
      "cell_type": "code",
      "execution_count": null,
      "metadata": {
        "colab": {
          "base_uri": "https://localhost:8080/"
        },
        "id": "VQvcfE6ekNiZ",
        "outputId": "3e0fbc53-ae2b-4473-a2fb-2c1e0a16bebf"
      },
      "outputs": [
        {
          "output_type": "stream",
          "name": "stdout",
          "text": [
            "Looking in indexes: https://pypi.org/simple, https://us-python.pkg.dev/colab-wheels/public/simple/\n",
            "Collecting botorch\n",
            "  Downloading botorch-0.8.0-py3-none-any.whl (481 kB)\n",
            "\u001b[K     |████████████████████████████████| 481 kB 5.9 MB/s \n",
            "\u001b[?25hCollecting gpytorch==1.9.0\n",
            "  Downloading gpytorch-1.9.0-py3-none-any.whl (245 kB)\n",
            "\u001b[K     |████████████████████████████████| 245 kB 66.6 MB/s \n",
            "\u001b[?25hRequirement already satisfied: torch>=1.11 in /usr/local/lib/python3.8/dist-packages (from botorch) (1.13.0+cu116)\n",
            "Collecting linear-operator==0.2.0\n",
            "  Downloading linear_operator-0.2.0-py3-none-any.whl (152 kB)\n",
            "\u001b[K     |████████████████████████████████| 152 kB 55.6 MB/s \n",
            "\u001b[?25hCollecting pyro-ppl>=1.8.2\n",
            "  Downloading pyro_ppl-1.8.3-py3-none-any.whl (727 kB)\n",
            "\u001b[K     |████████████████████████████████| 727 kB 63.5 MB/s \n",
            "\u001b[?25hRequirement already satisfied: multipledispatch in /usr/local/lib/python3.8/dist-packages (from botorch) (0.6.0)\n",
            "Requirement already satisfied: scipy in /usr/local/lib/python3.8/dist-packages (from botorch) (1.7.3)\n",
            "Requirement already satisfied: scikit-learn in /usr/local/lib/python3.8/dist-packages (from gpytorch==1.9.0->botorch) (1.0.2)\n",
            "Requirement already satisfied: numpy>=1.7 in /usr/local/lib/python3.8/dist-packages (from pyro-ppl>=1.8.2->botorch) (1.21.6)\n",
            "Requirement already satisfied: tqdm>=4.36 in /usr/local/lib/python3.8/dist-packages (from pyro-ppl>=1.8.2->botorch) (4.64.1)\n",
            "Requirement already satisfied: opt-einsum>=2.3.2 in /usr/local/lib/python3.8/dist-packages (from pyro-ppl>=1.8.2->botorch) (3.3.0)\n",
            "Collecting pyro-api>=0.1.1\n",
            "  Downloading pyro_api-0.1.2-py3-none-any.whl (11 kB)\n",
            "Requirement already satisfied: typing-extensions in /usr/local/lib/python3.8/dist-packages (from torch>=1.11->botorch) (4.4.0)\n",
            "Requirement already satisfied: six in /usr/local/lib/python3.8/dist-packages (from multipledispatch->botorch) (1.15.0)\n",
            "Requirement already satisfied: threadpoolctl>=2.0.0 in /usr/local/lib/python3.8/dist-packages (from scikit-learn->gpytorch==1.9.0->botorch) (3.1.0)\n",
            "Requirement already satisfied: joblib>=0.11 in /usr/local/lib/python3.8/dist-packages (from scikit-learn->gpytorch==1.9.0->botorch) (1.2.0)\n",
            "Installing collected packages: pyro-api, linear-operator, pyro-ppl, gpytorch, botorch\n",
            "Successfully installed botorch-0.8.0 gpytorch-1.9.0 linear-operator-0.2.0 pyro-api-0.1.2 pyro-ppl-1.8.3\n",
            "Looking in indexes: https://pypi.org/simple, https://us-python.pkg.dev/colab-wheels/public/simple/\n",
            "Requirement already satisfied: tensorflow-datasets in /usr/local/lib/python3.8/dist-packages (4.6.0)\n",
            "Requirement already satisfied: tensorflow-metadata in /usr/local/lib/python3.8/dist-packages (from tensorflow-datasets) (1.12.0)\n",
            "Requirement already satisfied: promise in /usr/local/lib/python3.8/dist-packages (from tensorflow-datasets) (2.3)\n",
            "Requirement already satisfied: importlib-resources in /usr/local/lib/python3.8/dist-packages (from tensorflow-datasets) (5.10.1)\n",
            "Requirement already satisfied: etils[epath] in /usr/local/lib/python3.8/dist-packages (from tensorflow-datasets) (0.9.0)\n",
            "Requirement already satisfied: toml in /usr/local/lib/python3.8/dist-packages (from tensorflow-datasets) (0.10.2)\n",
            "Requirement already satisfied: six in /usr/local/lib/python3.8/dist-packages (from tensorflow-datasets) (1.15.0)\n",
            "Requirement already satisfied: tqdm in /usr/local/lib/python3.8/dist-packages (from tensorflow-datasets) (4.64.1)\n",
            "Requirement already satisfied: absl-py in /usr/local/lib/python3.8/dist-packages (from tensorflow-datasets) (1.3.0)\n",
            "Requirement already satisfied: termcolor in /usr/local/lib/python3.8/dist-packages (from tensorflow-datasets) (2.1.1)\n",
            "Requirement already satisfied: numpy in /usr/local/lib/python3.8/dist-packages (from tensorflow-datasets) (1.21.6)\n",
            "Requirement already satisfied: requests>=2.19.0 in /usr/local/lib/python3.8/dist-packages (from tensorflow-datasets) (2.23.0)\n",
            "Requirement already satisfied: dill in /usr/local/lib/python3.8/dist-packages (from tensorflow-datasets) (0.3.6)\n",
            "Requirement already satisfied: protobuf>=3.12.2 in /usr/local/lib/python3.8/dist-packages (from tensorflow-datasets) (3.19.6)\n",
            "Requirement already satisfied: idna<3,>=2.5 in /usr/local/lib/python3.8/dist-packages (from requests>=2.19.0->tensorflow-datasets) (2.10)\n",
            "Requirement already satisfied: certifi>=2017.4.17 in /usr/local/lib/python3.8/dist-packages (from requests>=2.19.0->tensorflow-datasets) (2022.12.7)\n",
            "Requirement already satisfied: urllib3!=1.25.0,!=1.25.1,<1.26,>=1.21.1 in /usr/local/lib/python3.8/dist-packages (from requests>=2.19.0->tensorflow-datasets) (1.24.3)\n",
            "Requirement already satisfied: chardet<4,>=3.0.2 in /usr/local/lib/python3.8/dist-packages (from requests>=2.19.0->tensorflow-datasets) (3.0.4)\n",
            "Requirement already satisfied: typing_extensions in /usr/local/lib/python3.8/dist-packages (from etils[epath]->tensorflow-datasets) (4.4.0)\n",
            "Requirement already satisfied: zipp in /usr/local/lib/python3.8/dist-packages (from etils[epath]->tensorflow-datasets) (3.11.0)\n",
            "Requirement already satisfied: googleapis-common-protos<2,>=1.52.0 in /usr/local/lib/python3.8/dist-packages (from tensorflow-metadata->tensorflow-datasets) (1.57.0)\n"
          ]
        }
      ],
      "source": [
        "!pip install botorch\n",
        "!pip install tensorflow-datasets"
      ]
    },
    {
      "cell_type": "code",
      "source": [
        "import torch\n",
        "from botorch.models import SingleTaskGP\n",
        "from botorch.fit import fit_gpytorch_mll\n",
        "from botorch.utils import standardize\n",
        "from gpytorch.mlls import ExactMarginalLogLikelihood\n",
        "import tensorflow as tf\n",
        "import tensorflow_datasets as tfds\n",
        "import pandas as pd\n",
        "import numpy as np\n",
        "from botorch.acquisition import ConstrainedExpectedImprovement\n",
        "\n",
        "\n",
        "\n",
        "# # train_X = torch.rand(10, 2)\n",
        "# Y = 1 - torch.norm(train_X - 0.5, dim=-1, keepdim=True)\n",
        "# # Y = Y + 0.1 * torch.randn_like(Y)  # add some noise\n",
        "# # train_Y = standardize(Y)\n",
        "\n",
        "#train_Y dataset is (r**2)*(1/gradient)\n",
        "\n",
        "#train_X = torch.log10(train_X)\n",
        "\n",
        "#ALL OF THIS IS TRIPLICATE DATA\n",
        "\n",
        "train_X = torch.tensor([[100, 100, 100, 100, 100],\n",
        "                        [100, 100, 100, 100, 10],\n",
        "                        [100, 100, 100, 100, 1e-8],\n",
        "                        [100, 100, 100, 1600, 1e-8],\n",
        "                        [100, 100, 100, 160, 1e-8],\n",
        "                        [100, 100, 100, 16, 1e-8],\n",
        "                        [100, 100, 100, 1.6, 1e-8],\n",
        "                        [100, 100, 100, 0.16, 1e-8],\n",
        "                        [160, 100, 100, 100, 1e-8],\n",
        "                        [16, 100, 100, 100, 1e-8],\n",
        "                        [1.6, 100, 100, 100, 1e-8],\n",
        "                        [0.16, 100, 100, 100, 1e-8],\n",
        "                        [15, 165, 180, 175, 30],\n",
        "                        [75, 120, 165, 155, 35],\n",
        "                        [90, 195, 195, 65, 10],\n",
        "                        [90, 80, 40, 120, 60],\n",
        "                        [75, 100, 70, 25, 125]])\n",
        "\n",
        "train_Y = torch.tensor([[5.70371488],\n",
        "                        [6.20255544],\n",
        "                        [6.30610722],\n",
        "                        [3.91294488],\n",
        "                        [5.76402723],\n",
        "                        [7.06502575],\n",
        "                        [7.88795961],\n",
        "                        [6.83329838],\n",
        "                        [3.975726],\n",
        "                        [7.03076466],\n",
        "                        [2.4859599],\n",
        "                        [0.034931],\n",
        "                        [1.70840853],\n",
        "                        [3.436176],\n",
        "                        [3.114558],\n",
        "                        [5.652],\n",
        "                        [6.340245]])\n",
        "\n",
        "\n",
        "gp = SingleTaskGP(train_X, train_Y)\n",
        "mll = ExactMarginalLogLikelihood(gp.likelihood, gp)\n",
        "fit_gpytorch_mll(mll)"
      ],
      "metadata": {
        "colab": {
          "base_uri": "https://localhost:8080/"
        },
        "id": "m-haUg2JkcxA",
        "outputId": "cea08a7b-f4f7-45e6-fd77-54cbd09bfd66"
      },
      "execution_count": null,
      "outputs": [
        {
          "output_type": "stream",
          "name": "stderr",
          "text": [
            "/usr/local/lib/python3.8/dist-packages/botorch/models/gpytorch.py:113: UserWarning: The model inputs are of type torch.float32. It is strongly recommended to use double precision in BoTorch, as this improves both precision and stability and can help avoid numerical errors. See https://github.com/pytorch/botorch/discussions/1444\n",
            "  warnings.warn(\n"
          ]
        },
        {
          "output_type": "execute_result",
          "data": {
            "text/plain": [
              "ExactMarginalLogLikelihood(\n",
              "  (likelihood): GaussianLikelihood(\n",
              "    (noise_covar): HomoskedasticNoise(\n",
              "      (noise_prior): GammaPrior()\n",
              "      (raw_noise_constraint): GreaterThan(1.000E-04)\n",
              "    )\n",
              "  )\n",
              "  (model): SingleTaskGP(\n",
              "    (likelihood): GaussianLikelihood(\n",
              "      (noise_covar): HomoskedasticNoise(\n",
              "        (noise_prior): GammaPrior()\n",
              "        (raw_noise_constraint): GreaterThan(1.000E-04)\n",
              "      )\n",
              "    )\n",
              "    (mean_module): ConstantMean()\n",
              "    (covar_module): ScaleKernel(\n",
              "      (base_kernel): MaternKernel(\n",
              "        (lengthscale_prior): GammaPrior()\n",
              "        (raw_lengthscale_constraint): Positive()\n",
              "        (distance_module): Distance()\n",
              "      )\n",
              "      (outputscale_prior): GammaPrior()\n",
              "      (raw_outputscale_constraint): Positive()\n",
              "    )\n",
              "  )\n",
              ")"
            ]
          },
          "metadata": {},
          "execution_count": 4
        }
      ]
    },
    {
      "cell_type": "code",
      "source": [
        "# from google.colab import drive\n",
        "# drive.mount(\"/content/gdrive\")"
      ],
      "metadata": {
        "id": "sG6qu_xzRjKO"
      },
      "execution_count": null,
      "outputs": []
    },
    {
      "cell_type": "code",
      "source": [
        "# constraints = {0: (0.0, 200), 1: (10,400), 2: (10,400),3:(10,400),4:(10,400)}\n",
        "# best_f = 30\n",
        "# cEI = ConstrainedExpectedImprovement(gp, best_f,constraints)\n",
        "\n",
        "from botorch.acquisition import qUpperConfidenceBound\n",
        "\n",
        "UCB = qUpperConfidenceBound(gp, beta=0.1)\n",
        "\n",
        "\n"
      ],
      "metadata": {
        "id": "1Ym-8xQukgkU"
      },
      "execution_count": null,
      "outputs": []
    },
    {
      "cell_type": "code",
      "source": [
        "from botorch.optim import optimize_acqf\n",
        "\n",
        "bounds = torch.stack([torch.tensor([1e-8,10.0, 10.0, 10.0, 10.0]), torch.tensor([200, 400, 400, 400, 400])])\n",
        "\n",
        "# for i in range(len(bounds)):\n",
        "#   bounds[i] = torch.log10(bounds[i])\n",
        "\n",
        "candidate, acq_value = optimize_acqf(\n",
        "    UCB, bounds=bounds, q=5, num_restarts=5, raw_samples=20,\n",
        ")\n",
        "\n",
        "\n",
        "# 10**(candidate)\n",
        "candidate"
      ],
      "metadata": {
        "colab": {
          "base_uri": "https://localhost:8080/"
        },
        "id": "dPC7eqJbkivs",
        "outputId": "1172f151-fbb5-4702-a1fd-9c90e3867cf6"
      },
      "execution_count": null,
      "outputs": [
        {
          "output_type": "execute_result",
          "data": {
            "text/plain": [
              "tensor([[ 75.9152, 307.3633, 364.9861, 161.2097, 218.6706],\n",
              "        [162.7822, 168.9556, 282.8497, 254.3604, 243.1677],\n",
              "        [188.6821, 291.8510,  72.6129, 182.0149, 372.9000],\n",
              "        [ 46.3634,  94.9073, 160.8964, 196.5599,  80.6225],\n",
              "        [ 34.2471,  48.2471, 372.6898, 195.1060, 259.9414]])"
            ]
          },
          "metadata": {},
          "execution_count": 6
        }
      ]
    },
    {
      "cell_type": "code",
      "source": [
        "\n",
        "\n",
        "# reducing noise in the experiments\n",
        "# pipetting?\n",
        "# try pushing the left curve more to the left can add a (10-x) term to the y value output where x is the ct value of the 160 curve\n",
        "# try triplicates?\n",
        "\n",
        "# why didnt the last models work: pitfalls\n",
        "# they just didnt know what to ask for?\n",
        "# not enough datapoints for computer to fit the model (eg 0.0016 is too low same as 0, 1600 is too high close to 160) -> not enough difference to get response in output\n",
        "\n",
        "# is this still worth trying\n",
        "# maybe if can find a good y variable to fit to\n",
        "\n",
        "# graphs: use originlab\n",
        "# drawings: use autodraw\n",
        "\n",
        "# - can I stay beyond hols (do I still need clearance form)\n",
        "# try b2 and f2 5x5 grid\n",
        "\n",
        "# assumptions of BO:\n",
        "# - points close together will have similar values of output (continuous function)\n",
        "\n",
        "\n",
        "# things to put in the discussion of ur report:\n",
        "# - ct shift can only be detected in the log range (100v1 change not 2v1 change)\n",
        "# - LAMP system is very complex and does not work based on a linear relationship between concentration variables across ranges\n",
        "# - this project acts as POC that andgate is possible (2 inputs to come up with good output signal) -> to be optimized further, need to decide on an rna, decide on amplification method,\n",
        "# decide on optimized results\n",
        "\n",
        "# next steps in writing the report:\n",
        "# - do triplicates for 160, 16, 1.6, 0.16 for the necessary F2 range\n",
        "# - input this into the model to see if it outputs any reasonable new points in the space to try\n",
        "\n",
        "# mistakes in the ssef application:\n",
        "# - title should be AND gate NOT endgate\n",
        "# - teacher in charge is maury julien jean pierre (with appropriate email) NOT fernandez\n",
        "\n",
        "# reasons i am angry rn:\n",
        "# - he keeps telling me information AFTER i run my expts (i literally asked him whether the scale was ok for my result)\n",
        "# - he didnt correct my project title when i showed it to him\n",
        "\n",
        "\n",
        "\n"
      ],
      "metadata": {
        "id": "D2vUuZ0PzY4B"
      },
      "execution_count": null,
      "outputs": []
    }
  ]
}